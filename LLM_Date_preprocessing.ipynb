{
  "nbformat": 4,
  "nbformat_minor": 0,
  "metadata": {
    "colab": {
      "provenance": []
    },
    "kernelspec": {
      "name": "python3",
      "display_name": "Python 3"
    },
    "language_info": {
      "name": "python"
    }
  },
  "cells": [
    {
      "cell_type": "code",
      "execution_count": null,
      "metadata": {
        "colab": {
          "base_uri": "https://localhost:8080/"
        },
        "id": "MtGJRdhQKSm3",
        "outputId": "a5156ff1-9af2-49c7-a63d-bd1eb5834595"
      },
      "outputs": [
        {
          "output_type": "stream",
          "name": "stdout",
          "text": [
            "                Disease  Frequency     hematochezia  choke  spasm  \\\n",
            "0  hypertensive disease     3363.0  0             0      0      0   \n",
            "1                   NaN        NaN  0             0      0      0   \n",
            "2                   NaN        NaN  0             0      0      0   \n",
            "3                   NaN        NaN  0             0      0      0   \n",
            "4                   NaN        NaN  0             0      0      0   \n",
            "\n",
            "   lightheadedness  hypesthesia  pin-point pupils  tachypnea  ...  \\\n",
            "0                0            0                 0          0  ...   \n",
            "1                0            0                 0          0  ...   \n",
            "2                0            0                 0          0  ...   \n",
            "3                0            0                 0          0  ...   \n",
            "4                0            0                 0          0  ...   \n",
            "\n",
            "   breakthrough pain  welt  gravida 0  malaise  rhonchus  pulsus paradoxus  \\\n",
            "0                  0     0          0        0         0                 0   \n",
            "1                  0     0          0        0         0                 0   \n",
            "2                  0     0          0        0         0                 0   \n",
            "3                  0     0          0        0         0                 0   \n",
            "4                  0     0          0        0         0                 0   \n",
            "\n",
            "   intermenstrual heavy bleeding  dysarthria  systolic murmur  rolling of eyes  \n",
            "0                              0           0                0                0  \n",
            "1                              0           0                0                0  \n",
            "2                              0           0                0                0  \n",
            "3                              0           0                0                0  \n",
            "4                              0           0                0                0  \n",
            "\n",
            "[5 rows x 403 columns]\n",
            "Cleaned data saved to cleaned_disease_data.csv\n"
          ]
        }
      ],
      "source": [
        "import pandas as pd\n",
        "import re\n",
        "\n",
        "\n",
        "def clean_name(name):\n",
        "\n",
        "    # Remove UMLS codes and keep only the descriptive name\n",
        "    if isinstance(name, str):\n",
        "        name = re.sub(r'UMLS:[A-Z0-9]+_', '', name)  # Remove UMLS codes\n",
        "        name = name.replace('_', ' ')  # Replace underscores with spaces\n",
        "        name = name.strip()  # Clean extra spaces\n",
        "    return name\n",
        "\n",
        "\n",
        "# Load the input data from an Excel file\n",
        "input_file_path = \"/content/dataset.xlsx\"  # Replace this with your actual file path\n",
        "raw_data = pd.read_excel(input_file_path)\n",
        "\n",
        "# Parse the unique symptoms dynamically from the symptom column\n",
        "all_symptoms = set()\n",
        "for symptom_string in raw_data['Symptom']:\n",
        "    if isinstance(symptom_string, str):  # Ensure it's a string\n",
        "        symptom_list = symptom_string.split(';')\n",
        "        for symptom in symptom_list:\n",
        "            cleaned_symptom = clean_name(symptom.strip())\n",
        "            all_symptoms.add(cleaned_symptom)  # Add the cleaned symptom to the unique set\n",
        "\n",
        "# Convert the unique symptom set into a list for DataFrame processing\n",
        "all_symptoms = list(all_symptoms)\n",
        "\n",
        "# Initialize cleaned data storage\n",
        "cleaned_data = []\n",
        "\n",
        "# Process each row in the raw data\n",
        "for index, row in raw_data.iterrows():\n",
        "    # Parse the symptom for the given disease\n",
        "    symptom_list = row['Symptom'].split(';') if isinstance(row['Symptom'], str) else []\n",
        "\n",
        "    # Clean and map symptoms with binary encoding\n",
        "    symptom_map = {clean_name(symptom): (1 if clean_name(symptom) in symptom_list else 0) for symptom in all_symptoms}\n",
        "\n",
        "    # Combine the frequency of occurrences with the binary encoding\n",
        "    disease_row = {'Frequency': row['Count of Disease Occurrence']}\n",
        "    disease_row.update(symptom_map)\n",
        "\n",
        "    # Append to cleaned data\n",
        "    cleaned_data.append(disease_row)\n",
        "\n",
        "# Convert cleaned data to a DataFrame\n",
        "cleaned_df = pd.DataFrame(cleaned_data)\n",
        "\n",
        "# Clean and map disease names to a readable format for the target variable\n",
        "cleaned_df['Disease'] = raw_data['Disease'].apply(clean_name)\n",
        "\n",
        "# Rearrange DataFrame columns so that 'Disease' and 'Frequency' are first\n",
        "columns = ['Disease', 'Frequency'] + all_symptoms\n",
        "cleaned_df = cleaned_df[columns]\n",
        "\n",
        "# Output the cleaned DataFrame\n",
        "print(cleaned_df.head())\n",
        "\n",
        "# Optionally save the cleaned data to CSV\n",
        "output_file_path = \"cleaned_disease_data.csv\"\n",
        "cleaned_df.to_csv(output_file_path, index=False)\n",
        "print(f\"Cleaned data saved to {output_file_path}\")\n"
      ]
    },
    {
      "cell_type": "code",
      "source": [],
      "metadata": {
        "id": "CnNz9EuOPh7U"
      },
      "execution_count": null,
      "outputs": []
    }
  ]
}